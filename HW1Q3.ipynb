{
 "cells": [
  {
   "cell_type": "markdown",
   "metadata": {},
   "source": [
    "# Full implemetation of KNN in Python"
   ]
  },
  {
   "cell_type": "markdown",
   "metadata": {},
   "source": [
    "#### Instructions"
   ]
  },
  {
   "cell_type": "markdown",
   "metadata": {},
   "source": [
    "Complete this notebook and submit it as the solution for question 3 in home assinment no. 1 \n",
    "\n",
    "* In the relevant cell below, fill in the two id numbers for the students submitting this notebook\n",
    "* Cells with 'COMPLETED - NO CHANGES ARE REQUIRED' in their description require no edits and should be left unchanged\n",
    "* Cells with 'TO BE COMPLETED' requires you to complete the code according to the given description \n",
    "* **NOTE**: After you complete the notebook and run all cells, **discuss** the results displayed in the graph produced at the end of the notebook "
   ]
  },
  {
   "cell_type": "code",
   "execution_count": null,
   "metadata": {},
   "outputs": [],
   "source": [
    "# replace the strings below with the personal details of the two students submitting this notebook\n",
    "Name1 = 'Hadas Goren' # student 1 name and surname in the format 'Arik Paran'\n",
    "Name2 = 'Elad Gishri' # student 2 name and surname in the format 'Arik Paran' \n",
    "id1 = '307916296' # student 1 id\n",
    "id2 = '201080231' # student 2 id"
   ]
  },
  {
   "cell_type": "code",
   "execution_count": null,
   "metadata": {},
   "outputs": [],
   "source": [
    "import numpy as np\n",
    "\n",
    "def LoadIrisData(fname):\n",
    "    '''\n",
    "    ***COMPLETED - NO CHANGES ARE REQUIRED***\n",
    "    \n",
    "    Usage: load data from file in the path 'fname'\n",
    "    \n",
    "    Input: the path for the file that stores the data\n",
    "    Output: feature matrix X, and labels vector Y\n",
    "    '''\n",
    "    \n",
    "    # read the features data from the csv file\n",
    "    X = np.loadtxt(fname,dtype=float, delimiter=',', skiprows = 1,usecols=[1,2,3,4])\n",
    "\n",
    "    # read the labels data from the csv file\n",
    "    Y = np.loadtxt(fname,dtype=str, delimiter=',', skiprows = 1,usecols=[5])\n",
    "    \n",
    "    return X, Y"
   ]
  },
  {
   "cell_type": "code",
   "execution_count": null,
   "metadata": {},
   "outputs": [],
   "source": [
    "from numpy.random import randint\n",
    "def SplitTrainTest(X,Y):\n",
    "    '''\n",
    "    ***COMPLETED - NO CHANGES ARE REQUIRED***\n",
    "    \n",
    "    Input: feature matrix X, labels vector Y\n",
    "    Output: X_train, Y_train - train data\n",
    "            X_test, Y_test - test data\n",
    "    '''\n",
    "    \n",
    "    # permute the ordering of the examples\n",
    "    ind = np.random.permutation(len(Y))\n",
    "\n",
    "    # choose the size of the training data\n",
    "    Ntrain = 80 \n",
    "\n",
    "    # split the data into train and test datasets\n",
    "    X_train = X[ind[:Ntrain]]\n",
    "    Y_train = Y[ind[:Ntrain]]\n",
    "    X_test  = X[ind[Ntrain:]]\n",
    "    Y_test  = Y[ind[Ntrain:]]\n",
    "    \n",
    "    return X_train, Y_train, X_test, Y_test"
   ]
  },
  {
   "cell_type": "code",
   "execution_count": null,
   "metadata": {},
   "outputs": [],
   "source": [
    "def PairwiseDistance(a,b):\n",
    "    '''\n",
    "    ***TO BE COMPLETED***\n",
    "    \n",
    "    Usage: compute the euclidean distance between pair of examples\n",
    "    \n",
    "    Input: two numerical vectors of eqaul length\n",
    "    Output: the euclidean distance between the vectors\n",
    "    \n",
    "    Example: \n",
    "    PairwiseDistance([3, 1],[6, 5]) returns 5\n",
    "    [calculation: sqrt((3-6)^2+(1-5)^2) = sqrt(9+16) = 5]\n",
    "    '''\n",
    "    a = np.array(a)\n",
    "    b = np.array(b)\n",
    "    d = a-b\n",
    "    euc_distance = np.linalg.norm(d)\n",
    "    \n",
    "    return euc_distance"
   ]
  },
  {
   "cell_type": "code",
   "execution_count": null,
   "metadata": {},
   "outputs": [],
   "source": [
    "def SortArray(a):\n",
    "    '''\n",
    "    ***TO BE COMPLETED***\n",
    "    \n",
    "    Usage: return the ordering of the elements of the input array such that their values are ascending\n",
    "    \n",
    "    Input: a vector with numerical values\n",
    "    Output: the indices of the input array, such that the array is sorted in ascending order\n",
    "    \n",
    "    Example: \n",
    "    SortArray([1.34, 2.18, 1.21]) returns [2,0,1]\n",
    "    '''\n",
    "    sorted_inds = np.argsort(a)\n",
    "    \n",
    "    return sorted_inds"
   ]
  },
  {
   "cell_type": "code",
   "execution_count": null,
   "metadata": {},
   "outputs": [],
   "source": [
    "def MajorityVote(inds,y,K):\n",
    "    '''\n",
    "    ***TO BE COMPLETED***\n",
    "    \n",
    "    Usage: find the most frequent label in y's K leading values, after it sorted acording to inds\n",
    "    \n",
    "    Input: inds - an ordering of y\n",
    "           y    - a vector of labels\n",
    "           K    - an integer\n",
    "    Output: most frequent label\n",
    "    \n",
    "    Example 1: \n",
    "    SortArray(inds = [2, 0, 1, 3, 5, 4], \n",
    "              y    = ['setosa', 'setosa', 'versicolor', 'setosa', 'virginica', 'versicolor']) \n",
    "              K    = 1)\n",
    "    returns 'versicolor'\n",
    "\n",
    "    Example 2: \n",
    "    SortArray(inds = [2, 0, 1, 3, 5, 4], \n",
    "              y    = ['setosa', 'setosa', 'versicolor', 'setosa', 'virginica', 'versicolor']) \n",
    "              K    = 3)\n",
    "    returns 'setosa'\n",
    "    '''\n",
    "    y = np.array(y)\n",
    "    sorted_labels = y[inds]\n",
    "    # the labels of the K nearest neighbors\n",
    "    k_sorted_labels = sorted_labels[:K]\n",
    "   \n",
    "    # counting the number occurences of each label amongst the K nearest neighbors\n",
    "    unique_labels, count_array = np.unique(k_sorted_labels,return_counts=True)\n",
    "    \n",
    "    # the most frequent label amongst the K nearest neighbors\n",
    "    freq_label_ind = np.argmax(count_array)\n",
    "    most_frequent_label = unique_labels[freq_label_ind]\n",
    "\n",
    "    return most_frequent_label"
   ]
  },
  {
   "cell_type": "code",
   "execution_count": null,
   "metadata": {},
   "outputs": [],
   "source": [
    "def KNearestNeighborsClassifier(X_train, Y_train , X_test, K):\n",
    "    '''\n",
    "    ***TO BE COMPLETED***\n",
    "    \n",
    "    Usage: estimate the label of each unclassified example in X_test to be the most \n",
    "           frequent label amongst its K nearest neighbors in X_train\n",
    "           \n",
    "    Input:  X_train - training data (features)\n",
    "            Y_train - training data (labels) \n",
    "            X_test  - test data (features)\n",
    "            K       - number of neighbors\n",
    "    \n",
    "    Output: Y_test  - the classifier's labels for the test data\n",
    "    \n",
    "    '''\n",
    "    Y_pred = []\n",
    "    arr_distances = np.array([])\n",
    "    \n",
    "    # loop through the examples to be classified\n",
    "    for sample in X_test:\n",
    "        # compute the pairwise distances between the each unclassified example and \n",
    "        # all classified example\n",
    "        for train in X_train:\n",
    "            curr_distances = PairwiseDistance(sample, train)\n",
    "            arr_distances = np.append(arr_distances,[curr_distances])\n",
    "        # find the unclassified example's K nearest neighbors\n",
    "        indices = SortArray(arr_distances)\n",
    "        \n",
    "        # estimate the unclassified example's label according to the \n",
    "        # labels of its K nearest neighbors\n",
    "        curr_label = MajorityVote(indices, Y_train, K)\n",
    "        Y_pred.append(curr_label)\n",
    "        arr_distances = np.array([])\n",
    " \n",
    "    return Y_pred"
   ]
  },
  {
   "cell_type": "code",
   "execution_count": null,
   "metadata": {},
   "outputs": [],
   "source": [
    "import matplotlib.pyplot as plt\n",
    "\n",
    "def PlotAccuracy(accuracy):\n",
    "    '''\n",
    "    ***COMPLETED - NO CHANGES ARE REQUIRED***\n",
    "    '''\n",
    "    plt.figure(figsize=(14,5))\n",
    "    plt.plot(accuracy,'.-')\n",
    "    plt.xlabel('K')\n",
    "    plt.ylabel('Accuracy')\n",
    "    plt.title('KNN estimated accuracy for various values of K');\n",
    "    return"
   ]
  },
  {
   "cell_type": "code",
   "execution_count": null,
   "metadata": {},
   "outputs": [],
   "source": [
    "def Accuracy(Y_pred, Y_test):\n",
    "    '''\n",
    "    ***TO BE COMPLETED***\n",
    "    \n",
    "    Usage: calculate the classifier accuracy \n",
    "    \n",
    "    Input: Y_test - true labels of X_test\n",
    "           Y_pred - estimated labels of X_test\n",
    "    Output: accuracy - the nember of correctly classified examples, divided by the total number of examples    \n",
    "\n",
    "    Example: \n",
    "    calling Accuracy(Y_pred = ['setosa', 'setosa', 'versicolor', 'setosa', 'virginica']), \n",
    "                     Y_test = ['setosa', 'setosa', 'versicolor', 'versicolor', 'virginica']))\n",
    "    returns 0.8\n",
    "    '''\n",
    "    \n",
    "    # calculate the accuracy - the ratio between the number of examples in X_test for which\n",
    "    # the true label and the estimated label are the same, and the total number \n",
    "    # of examples in X_test\n",
    "    accuracy = np.sum(Y_pred==Y_test)/(len(Y_pred))\n",
    "\n",
    "    return accuracy"
   ]
  },
  {
   "cell_type": "code",
   "execution_count": null,
   "metadata": {},
   "outputs": [],
   "source": [
    "def main(fname, Kmax):\n",
    "    '''\n",
    "    ***COMPLETED - NO CHANGES ARE REQUIRED***\n",
    "    '''    \n",
    "    # STEP 1: load data\n",
    "    X,Y = LoadIrisData(fname)\n",
    "    \n",
    "    # STEP 2: split the data into train/test datasets\n",
    "    X_train, Y_train, X_test, Y_test = SplitTrainTest(X,Y)\n",
    "    print('Data is split into ' + str(X_train.shape[0]) + ' examples for training and ' + str(X_test.shape[0]) + ' examples for testing')\n",
    "    \n",
    "    # an array to store all computed accuracies\n",
    "    accuracy = np.zeros(Kmax)\n",
    "    \n",
    "    # repeat for all considered values of K\n",
    "    for K in range(Kmax):\n",
    "        # STEP 3: classify the test data using a KNN classifier\n",
    "        Y_pred = KNearestNeighborsClassifier(X_train, Y_train, X_test , K+1)\n",
    "\n",
    "        # STEP 4: calculate the KNN classifier accuracy\n",
    "        accuracy[K] = Accuracy(Y_pred, Y_test)\n",
    "        \n",
    "    # plot results\n",
    "    PlotAccuracy(accuracy)\n",
    "    return"
   ]
  },
  {
   "cell_type": "code",
   "execution_count": null,
   "metadata": {
    "id": "GcRIsEmmoxeL"
   },
   "outputs": [],
   "source": [
    "fname = 'iris.csv'\n",
    "Kmax = 100\n",
    "main(fname, Kmax)"
   ]
  },
  {
   "cell_type": "code",
   "execution_count": null,
   "metadata": {},
   "outputs": [],
   "source": [
    "def main_3b(fname, Kmax):\n",
    "    N = range(100)\n",
    "    accuracy_matrix = np.zeros((100,Kmax))\n",
    "    accuracy_avg = []\n",
    "    \n",
    "    for n in N:\n",
    "        # STEP 1: load data\n",
    "        X,Y = LoadIrisData(fname)\n",
    "    \n",
    "        # STEP 2: split the data into train/test datasets\n",
    "        X_train, Y_train, X_test, Y_test = SplitTrainTest(X,Y)\n",
    "    \n",
    "        # an array to store all computed accuracies\n",
    "        accuracy = np.zeros(Kmax)\n",
    "    \n",
    "        # repeat for all considered values of K\n",
    "        for K in range(Kmax):\n",
    "            # STEP 3: classify the test data using a KNN classifier\n",
    "            Y_pred = KNearestNeighborsClassifier(X_train, Y_train, X_test , K+1)\n",
    "\n",
    "            # STEP 4: calculate the KNN classifier accuracy\n",
    "            accuracy[K] = Accuracy(Y_pred, Y_test)\n",
    "            \n",
    "        accuracy_matrix[n] = accuracy\n",
    "    accuracy_avg = np.mean(accuracy_matrix, axis=0)  \n",
    "    \n",
    "    # plot results\n",
    "    PlotAccuracy(accuracy_avg)\n",
    "    return"
   ]
  },
  {
   "cell_type": "code",
   "execution_count": null,
   "metadata": {},
   "outputs": [],
   "source": [
    "fname = 'iris.csv'\n",
    "Kmax = 100\n",
    "main_3b(fname, Kmax)"
   ]
  },
  {
   "cell_type": "code",
   "execution_count": null,
   "metadata": {},
   "outputs": [],
   "source": []
  }
 ],
 "metadata": {
  "colab": {
   "authorship_tag": "ABX9TyNFWcR00QMcUKz4KlNYvrGT",
   "collapsed_sections": [],
   "name": "My KNN with iris.ipynb",
   "private_outputs": true,
   "provenance": []
  },
  "kernelspec": {
   "display_name": "Python 3 (ipykernel)",
   "language": "python",
   "name": "python3"
  },
  "language_info": {
   "codemirror_mode": {
    "name": "ipython",
    "version": 3
   },
   "file_extension": ".py",
   "mimetype": "text/x-python",
   "name": "python",
   "nbconvert_exporter": "python",
   "pygments_lexer": "ipython3",
   "version": "3.9.7"
  },
  "toc": {
   "base_numbering": 1,
   "nav_menu": {},
   "number_sections": false,
   "sideBar": true,
   "skip_h1_title": true,
   "title_cell": "Table of Contents",
   "title_sidebar": "Contents",
   "toc_cell": false,
   "toc_position": {
    "height": "calc(100% - 180px)",
    "left": "10px",
    "top": "150px",
    "width": "165px"
   },
   "toc_section_display": true,
   "toc_window_display": false
  }
 },
 "nbformat": 4,
 "nbformat_minor": 1
}
